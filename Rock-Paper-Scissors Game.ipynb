{
 "cells": [
  {
   "cell_type": "code",
   "execution_count": 2,
   "id": "37bb4500-f564-455c-bf8a-490e6053250b",
   "metadata": {},
   "outputs": [
    {
     "name": "stdout",
     "output_type": "stream",
     "text": [
      "\n",
      "====Welcome To Stone The Paper Scissor Game!!!====\n",
      "\n"
     ]
    },
    {
     "name": "stdin",
     "output_type": "stream",
     "text": [
      "Enter Your Name:-  Himanshu\n",
      "\n",
      "Enter No. of Rounds You Want To Play:-  1\n"
     ]
    },
    {
     "name": "stdout",
     "output_type": "stream",
     "text": [
      "\n",
      "Enter 0 For Stone\n",
      "Enter 1 For Paper\n",
      "Enter 2 For Scissor\n",
      "\n"
     ]
    },
    {
     "name": "stdin",
     "output_type": "stream",
     "text": [
      "Enter Your Choice:-  0\n"
     ]
    },
    {
     "name": "stdout",
     "output_type": "stream",
     "text": [
      "\n",
      "You Entered:- 0\n",
      "Computer Played:- 1\n",
      "Round 1 - COMPUTER WINS This Round.\n",
      "\n",
      "\n",
      "Computer Score:-  1\n",
      "\n",
      "Himanshu's Score:- 0\n",
      "\n",
      "Number of Rounds Played:-  1\n",
      "Round 1 - COMPUTER WINS\n",
      "\n",
      "COMPUTER WINS The Game!!! BETTER LUCK NEXT TIME.\n"
     ]
    }
   ],
   "source": [
    "import random\n",
    "\n",
    "print(\"\\n====Welcome To Stone The Paper Scissor Game!!!====\\n\")\n",
    "\n",
    "computerScore = 0\n",
    "userScore = 0\n",
    "name = input(\"Enter Your Name:- \")\n",
    "noOfRounds = int(input(\"\\nEnter No. of Rounds You Want To Play:- \"))\n",
    "nor = 1\n",
    "\n",
    "lt = []\n",
    "print(\"\\nEnter 0 For Stone\\nEnter 1 For Paper\\nEnter 2 For Scissor\\n\")\n",
    "while nor <= noOfRounds:\n",
    "    computerValue = random.randint(0, 2)\n",
    "    userInput = int(input(\"Enter Your Choice:- \"))\n",
    "\n",
    "    if computerValue == userInput:\n",
    "        lt.append(f\"Round {nor} - TIES\")\n",
    "        print(\n",
    "            f\"\\nYou Entered:- {userInput}\\nComputer Played:- {computerValue}\\nRound {nor} - TIES.\\n\"\n",
    "        )\n",
    "\n",
    "    elif computerValue == 0 and userInput == 1:\n",
    "        lt.append(f\"Round {nor} - {name} WINS\")\n",
    "        userScore += 1\n",
    "        print(\n",
    "            f\"\\nYou Entered:- {userInput}\\nComputer Played:- {computerValue}\\nRound {nor} - {name} WINS This Round.\\n\"\n",
    "        )\n",
    "\n",
    "    elif computerValue == 1 and userInput == 0:\n",
    "        lt.append(f\"Round {nor} - COMPUTER WINS\")\n",
    "        computerScore += 1\n",
    "        print(\n",
    "            f\"\\nYou Entered:- {userInput}\\nComputer Played:- {computerValue}\\nRound {nor} - COMPUTER WINS This Round.\\n\"\n",
    "        )\n",
    "\n",
    "    elif computerValue == 0 and userInput == 2:\n",
    "        lt.append(f\"Round {nor} - COMPUTER WINS\")\n",
    "        computerScore += 1\n",
    "        print(\n",
    "            f\"\\nYou Entered:- {userInput}\\nComputer Played:- {computerValue}\\nRound {nor} - COMPUTER WINS This Round.\\n\"\n",
    "        )\n",
    "\n",
    "    elif computerValue == 2 and userInput == 0:\n",
    "        lt.append(f\"Round {nor} - {name} WINS\")\n",
    "        userScore += 1\n",
    "        print(\n",
    "            f\"\\nYou Entered:- {userInput}\\nComputer Played:- {computerValue}\\nRound {nor} - {name} WINS This Round.\\n\"\n",
    "        )\n",
    "\n",
    "    elif computerValue == 1 and userInput == 2:\n",
    "        lt.append(f\"Round {nor} - {name} WINS\")\n",
    "        userScore += 1\n",
    "        print(\n",
    "            f\"\\nYou Entered:- {userInput}\\nComputer Played:- {computerValue}\\nRound {nor} - {name} WINS This Round.\\n\"\n",
    "        )\n",
    "\n",
    "    elif computerValue == 2 and userInput == 1:\n",
    "        lt.append(f\"Round {nor} - COMPUTER WINS\")\n",
    "        computerScore += 1\n",
    "        print(\n",
    "            f\"\\nYou Entered:- {userInput}\\nComputer Played:- {computerValue}\\nRound {nor} - COMPUTER WINS This Round.\\n\"\n",
    "        )\n",
    "\n",
    "    else:\n",
    "\n",
    "        print(\"ERROR\")\n",
    "\n",
    "    nor += 1\n",
    "\n",
    "print(\"\\nComputer Score:- \", computerScore)\n",
    "print(f\"\\n{name}'s Score:- {userScore}\")\n",
    "print(\"\\nNumber of Rounds Played:- \", noOfRounds)\n",
    "[print(i) for i in lt]\n",
    "\n",
    "\n",
    "if userScore > computerScore:\n",
    "    print(f\"\\n{name} WINS The Game!!!\")\n",
    "\n",
    "elif userScore == computerScore:\n",
    "    print(\"\\nOops! This Game TIES. Try Again.\")\n",
    "\n",
    "else:\n",
    "    print(\"\\nCOMPUTER WINS The Game!!! BETTER LUCK NEXT TIME.\")"
   ]
  },
  {
   "cell_type": "code",
   "execution_count": null,
   "id": "40853e1b-2010-4628-86d8-1d9272a338c8",
   "metadata": {},
   "outputs": [],
   "source": []
  }
 ],
 "metadata": {
  "kernelspec": {
   "display_name": "Python 3 (ipykernel)",
   "language": "python",
   "name": "python3"
  },
  "language_info": {
   "codemirror_mode": {
    "name": "ipython",
    "version": 3
   },
   "file_extension": ".py",
   "mimetype": "text/x-python",
   "name": "python",
   "nbconvert_exporter": "python",
   "pygments_lexer": "ipython3",
   "version": "3.12.4"
  }
 },
 "nbformat": 4,
 "nbformat_minor": 5
}
