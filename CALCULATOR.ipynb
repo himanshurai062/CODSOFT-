{
 "cells": [
  {
   "cell_type": "code",
   "execution_count": 4,
   "id": "efd9cebc-8920-413f-9299-aab3c0f6b0d2",
   "metadata": {},
   "outputs": [
    {
     "name": "stdout",
     "output_type": "stream",
     "text": [
      "MENU\n",
      "1. Enter The First Number.\n",
      "2. Enter The Second Number.\n",
      "3. Enter The Operator.\n",
      "   Enter \"+\" For Addition\n",
      "   Enter \"-\" For Subtraction\n",
      "   Enter \"*\" For Multiplication\n",
      "   Enter \"/\" For Division\n",
      "   Enter \"\" For Exponential\n",
      "\n",
      "   Enter \"0\" To Exit.\n",
      "\n",
      "   THANK YOU!    \n",
      "\n"
     ]
    },
    {
     "name": "stdin",
     "output_type": "stream",
     "text": [
      "Enter First Number:-  23\n",
      "Enter Second Number:-  56\n",
      "Enter The Operator:-  +\n"
     ]
    },
    {
     "name": "stdout",
     "output_type": "stream",
     "text": [
      "The Result is 79\n"
     ]
    },
    {
     "name": "stdin",
     "output_type": "stream",
     "text": [
      "Enter First Number:-  58\n",
      "Enter Second Number:-  22\n",
      "Enter The Operator:-  -\n"
     ]
    },
    {
     "name": "stdout",
     "output_type": "stream",
     "text": [
      "The Result is 36\n"
     ]
    },
    {
     "name": "stdin",
     "output_type": "stream",
     "text": [
      "Enter First Number:-  22\n",
      "Enter Second Number:-  2\n",
      "Enter The Operator:-  *\n"
     ]
    },
    {
     "name": "stdout",
     "output_type": "stream",
     "text": [
      "The Result is 44\n"
     ]
    },
    {
     "name": "stdin",
     "output_type": "stream",
     "text": [
      "Enter First Number:-  25\n",
      "Enter Second Number:-  5\n",
      "Enter The Operator:-  /\n"
     ]
    },
    {
     "name": "stdout",
     "output_type": "stream",
     "text": [
      "The Result is 5.0\n"
     ]
    },
    {
     "name": "stdin",
     "output_type": "stream",
     "text": [
      "Enter First Number:-  45\n",
      "Enter Second Number:-  45\n",
      "Enter The Operator:-  0\n"
     ]
    },
    {
     "name": "stdout",
     "output_type": "stream",
     "text": [
      "Thank You!\n"
     ]
    }
   ],
   "source": [
    "def Calc(a, b, operator):\n",
    "\n",
    "    if operator == \"+\":\n",
    "        return a + b\n",
    "\n",
    "    elif operator == \"*\":\n",
    "        return a * b\n",
    "\n",
    "    elif operator == \"-\":\n",
    "        return a - b\n",
    "\n",
    "    elif operator == \"/\":\n",
    "        return a / b\n",
    "\n",
    "    elif operator == \"\":\n",
    "        return a**b\n",
    "\n",
    "    elif operator == \"0\":\n",
    "        print(\"Thank You!\")\n",
    "        return 1\n",
    "\n",
    "    else:\n",
    "        print(\"Invalid Input! Enter Correct Input!\")\n",
    "        return 0\n",
    "\n",
    "\n",
    "print(\n",
    "    \"\"\"MENU\n",
    "1. Enter The First Number.\n",
    "2. Enter The Second Number.\n",
    "3. Enter The Operator.\n",
    "   Enter \"+\" For Addition\n",
    "   Enter \"-\" For Subtraction\n",
    "   Enter \"*\" For Multiplication\n",
    "   Enter \"/\" For Division\n",
    "   Enter \"\" For Exponential\n",
    "\n",
    "   Enter \"0\" To Exit.\n",
    "\n",
    "   THANK YOU!    \n",
    "\"\"\"\n",
    ")\n",
    "\n",
    "\n",
    "while True:\n",
    "    try:\n",
    "        a = int(input(\"Enter First Number:- \"))\n",
    "        b = int(input(\"Enter Second Number:- \"))\n",
    "        operator = input(\"Enter The Operator:- \")\n",
    "    except Exception as e:\n",
    "        print(e)\n",
    "        continue\n",
    "\n",
    "    output = Calc(a, b, operator)\n",
    "    while output == 0:\n",
    "        output = Calc(a, b, operator)\n",
    "    if output == 1:\n",
    "        break\n",
    "    else:\n",
    "        print(f\"The Result is {output}\")"
   ]
  },
  {
   "cell_type": "code",
   "execution_count": null,
   "id": "366f2ceb-8f5c-480c-afa8-5ec99637f792",
   "metadata": {},
   "outputs": [],
   "source": []
  }
 ],
 "metadata": {
  "kernelspec": {
   "display_name": "Python 3 (ipykernel)",
   "language": "python",
   "name": "python3"
  },
  "language_info": {
   "codemirror_mode": {
    "name": "ipython",
    "version": 3
   },
   "file_extension": ".py",
   "mimetype": "text/x-python",
   "name": "python",
   "nbconvert_exporter": "python",
   "pygments_lexer": "ipython3",
   "version": "3.12.4"
  }
 },
 "nbformat": 4,
 "nbformat_minor": 5
}
